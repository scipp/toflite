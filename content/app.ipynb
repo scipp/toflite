{
 "cells": [
  {
   "cell_type": "code",
   "execution_count": null,
   "id": "d40e3238-d71b-41fc-9fdc-c7c41c90ac57",
   "metadata": {},
   "outputs": [],
   "source": [
    "%pip install -q numpy matplotlib ipympl ipywidgets"
   ]
  },
  {
   "cell_type": "code",
   "execution_count": null,
   "id": "87b129b5-b846-4610-b759-2979e4b69df6",
   "metadata": {},
   "outputs": [],
   "source": [
    "import toflite\n",
    "%matplotlib widget\n",
    "\n",
    "toflite.app()"
   ]
  }
 ],
 "metadata": {
  "kernelspec": {
   "display_name": "Python 3 (ipykernel)",
   "language": "python",
   "name": "python3"
  },
  "language_info": {
   "codemirror_mode": {
    "name": "ipython",
    "version": 3
   },
   "file_extension": ".py",
   "mimetype": "text/x-python",
   "name": "python",
   "nbconvert_exporter": "python",
   "pygments_lexer": "ipython3",
   "version": "3.12.7"
  }
 },
 "nbformat": 4,
 "nbformat_minor": 5
}
